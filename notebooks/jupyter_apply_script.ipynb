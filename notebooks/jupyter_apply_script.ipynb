{
 "cells": [
  {
   "cell_type": "markdown",
   "id": "3f58caaa",
   "metadata": {},
   "source": [
    "# Application Pipeline"
   ]
  },
  {
   "cell_type": "code",
   "execution_count": 1,
   "id": "5be99b70",
   "metadata": {},
   "outputs": [],
   "source": [
    "# Imports\n",
    "\n",
    "import os\n",
    "import sys\n",
    "import torch\n",
    "import ipywidgets as wg\n",
    "from IPython.display import display, Javascript \n",
    "from argparse import ArgumentParser, Namespace\n",
    "\n",
    "os.sys.path.append(os.path.dirname(os.path.abspath('.')))\n",
    "from utils.jupyter_widgets import get_pipelin_widget, get_apply_parameter_widgets, get_execution_widgets"
   ]
  },
  {
   "cell_type": "code",
   "execution_count": 2,
   "id": "4a674686",
   "metadata": {},
   "outputs": [
    {
     "name": "stdout",
     "output_type": "stream",
     "text": [
      "The following GPU was found:\n",
      "\n",
      "CUDNN VERSION: 8200\n",
      "Number CUDA Devices: 1\n",
      "CUDA Device Name: NVIDIA RTX A4000\n",
      "CUDA Device Total Memory [GB]: 16.890134528\n"
     ]
    },
    {
     "data": {
      "application/vnd.jupyter.widget-view+json": {
       "model_id": "bf2df600ed2f4e269b2a337f84802ce4",
       "version_major": 2,
       "version_minor": 0
      },
      "text/plain": [
       "Dropdown(description='Select Pipeline:', options=('DiffusionModel3d', 'DiffusionModel2d'), style=DescriptionSt…"
      ]
     },
     "metadata": {},
     "output_type": "display_data"
    }
   ],
   "source": [
    "# Check for GPU\n",
    "use_cuda = torch.cuda.is_available()\n",
    "if use_cuda:\n",
    "    print('The following GPU was found:\\n')\n",
    "    print('CUDNN VERSION:', torch.backends.cudnn.version())\n",
    "    print('Number CUDA Devices:', torch.cuda.device_count())\n",
    "    print('CUDA Device Name:',torch.cuda.get_device_name(0))\n",
    "    print('CUDA Device Total Memory [GB]:',torch.cuda.get_device_properties(0).total_memory/1e9)\n",
    "else:\n",
    "    print('No GPU was found. CPU will be used.')\n",
    "\n",
    "# Select a pipeline \n",
    "pipeline = get_pipelin_widget()\n",
    "display(pipeline)"
   ]
  },
  {
   "cell_type": "markdown",
   "id": "8162637c",
   "metadata": {},
   "source": [
    "---\n",
    "After executing the next block, please adapt all parameters accordingly.\n",
    "The pipeline expects a list of files that should be used for testing. \n",
    "Absolute paths to each files are automatically obtained by concatenating the provided data root and each entry of the file lists.\n",
    "When changing the selected pipeline, please again execute the following block."
   ]
  },
  {
   "cell_type": "code",
   "execution_count": 3,
   "id": "22365964",
   "metadata": {},
   "outputs": [
    {
     "name": "stdout",
     "output_type": "stream",
     "text": [
      "____________________________________________________________\n",
      "PARAMETER FOR PIPELINE \"DiffusionModel3d\"\n",
      "------------------------------------------------------------\n"
     ]
    },
    {
     "data": {
      "application/vnd.jupyter.widget-view+json": {
       "model_id": "4ac1699cb49746dcaab1d3b34a398a45",
       "version_major": 2,
       "version_minor": 0
      },
      "text/plain": [
       "Text(value='results/experiment_name', description='Output Path:', style=DescriptionStyle(description_width='in…"
      ]
     },
     "metadata": {},
     "output_type": "display_data"
    },
    {
     "data": {
      "application/vnd.jupyter.widget-view+json": {
       "model_id": "d61c9dc47c46490fb1e7517b18162a1d",
       "version_major": 2,
       "version_minor": 0
      },
      "text/plain": [
       "Text(value='results/experiment_name/DiffusionModel.ckpt', description='Checkpoint Path:', style=DescriptionSty…"
      ]
     },
     "metadata": {},
     "output_type": "display_data"
    },
    {
     "data": {
      "application/vnd.jupyter.widget-view+json": {
       "model_id": "9deec681b4254873b9dfa3772a59d121",
       "version_major": 2,
       "version_minor": 0
      },
      "text/plain": [
       "IntSlider(value=1, description='Use GPU:', max=1, style=SliderStyle(description_width='initial'))"
      ]
     },
     "metadata": {},
     "output_type": "display_data"
    },
    {
     "data": {
      "application/vnd.jupyter.widget-view+json": {
       "model_id": "e5ddf5b4635d46ec92c3d92b4e8e0d09",
       "version_major": 2,
       "version_minor": 0
      },
      "text/plain": [
       "Text(value='15 30 30', description='Overlap (z,y,x):', style=DescriptionStyle(description_width='initial'))"
      ]
     },
     "metadata": {},
     "output_type": "display_data"
    },
    {
     "data": {
      "application/vnd.jupyter.widget-view+json": {
       "model_id": "29f6e716a3604ecfae3d671a3ccb4b7d",
       "version_major": 2,
       "version_minor": 0
      },
      "text/plain": [
       "Text(value='15 30 30', description='Crop (z,y,x):', style=DescriptionStyle(description_width='initial'))"
      ]
     },
     "metadata": {},
     "output_type": "display_data"
    },
    {
     "data": {
      "application/vnd.jupyter.widget-view+json": {
       "model_id": "b0cbeff0aae84b7caa3f797a237f2195",
       "version_major": 2,
       "version_minor": 0
      },
      "text/plain": [
       "Dropdown(description='Input Batch:', layout=Layout(width='max-content'), options=('image', 'mask'), style=Desc…"
      ]
     },
     "metadata": {},
     "output_type": "display_data"
    },
    {
     "data": {
      "application/vnd.jupyter.widget-view+json": {
       "model_id": "a03a7ef116374d7b83a48b92ae67a193",
       "version_major": 2,
       "version_minor": 0
      },
      "text/plain": [
       "Text(value='-1.0 1.0', description='Clip (min, max):', style=DescriptionStyle(description_width='initial'))"
      ]
     },
     "metadata": {},
     "output_type": "display_data"
    },
    {
     "data": {
      "application/vnd.jupyter.widget-view+json": {
       "model_id": "76974285cc7a48d5b056a2ef055498c6",
       "version_major": 2,
       "version_minor": 0
      },
      "text/plain": [
       "BoundedIntText(value=-1, description='Number of Files:', max=10000, min=-1, style=DescriptionStyle(description…"
      ]
     },
     "metadata": {},
     "output_type": "display_data"
    },
    {
     "data": {
      "application/vnd.jupyter.widget-view+json": {
       "model_id": "02e63fecb18948108800965588b94e8a",
       "version_major": 2,
       "version_minor": 0
      },
      "text/plain": [
       "BoundedIntText(value=0, description='Noise Channel:', max=10000, min=-2, style=DescriptionStyle(description_wi…"
      ]
     },
     "metadata": {},
     "output_type": "display_data"
    },
    {
     "data": {
      "application/vnd.jupyter.widget-view+json": {
       "model_id": "d0c698541d4042f6b79b60015df6046a",
       "version_major": 2,
       "version_minor": 0
      },
      "text/plain": [
       "BoundedIntText(value=400, description='Timestep to Start the Reverse Process:', max=1000, style=DescriptionSty…"
      ]
     },
     "metadata": {},
     "output_type": "display_data"
    },
    {
     "data": {
      "application/vnd.jupyter.widget-view+json": {
       "model_id": "14cdac45d3f444919f21633c1582a449",
       "version_major": 2,
       "version_minor": 0
      },
      "text/plain": [
       "BoundedIntText(value=100, description='Number of Timesteps Between Saves:', max=1000, style=DescriptionStyle(d…"
      ]
     },
     "metadata": {},
     "output_type": "display_data"
    },
    {
     "data": {
      "application/vnd.jupyter.widget-view+json": {
       "model_id": "b313399f57454c9c9adaa1ce8a37123c",
       "version_major": 2,
       "version_minor": 0
      },
      "text/plain": [
       "BoundedIntText(value=1, description='Timesteps Skipped Between Iterations:', max=1000, style=DescriptionStyle(…"
      ]
     },
     "metadata": {},
     "output_type": "display_data"
    },
    {
     "data": {
      "application/vnd.jupyter.widget-view+json": {
       "model_id": "38d52286db674574a1cd7aa5a9874e0a",
       "version_major": 2,
       "version_minor": 0
      },
      "text/plain": [
       "BoundedIntText(value=1, description='Sigma for Gaussian Blurring of Inputs:', max=5, style=DescriptionStyle(de…"
      ]
     },
     "metadata": {},
     "output_type": "display_data"
    },
    {
     "data": {
      "application/vnd.jupyter.widget-view+json": {
       "model_id": "3e66f36d56ab4f53995c4738c08f6e12",
       "version_major": 2,
       "version_minor": 0
      },
      "text/plain": [
       "BoundedIntText(value=1, description='Output Channels:', max=10000, min=1, style=DescriptionStyle(description_w…"
      ]
     },
     "metadata": {},
     "output_type": "display_data"
    },
    {
     "data": {
      "application/vnd.jupyter.widget-view+json": {
       "model_id": "78c3158117624792ae9fa935bcd9c88f",
       "version_major": 2,
       "version_minor": 0
      },
      "text/plain": [
       "Text(value='64 128 128', description='Patch Size (z,y,x):', style=DescriptionStyle(description_width='initial'…"
      ]
     },
     "metadata": {},
     "output_type": "display_data"
    },
    {
     "data": {
      "application/vnd.jupyter.widget-view+json": {
       "model_id": "c8c5a2a9a74545ae805761c5c8f9c527",
       "version_major": 2,
       "version_minor": 0
      },
      "text/plain": [
       "Text(value='/data/root', description='Data Root:', style=DescriptionStyle(description_width='initial'))"
      ]
     },
     "metadata": {},
     "output_type": "display_data"
    },
    {
     "data": {
      "application/vnd.jupyter.widget-view+json": {
       "model_id": "4d8e6f278cae47a58ef18924945c5adb",
       "version_major": 2,
       "version_minor": 0
      },
      "text/plain": [
       "Text(value='/path/to/testing_data/split1_test.csv', description='Test List:', style=DescriptionStyle(descripti…"
      ]
     },
     "metadata": {},
     "output_type": "display_data"
    },
    {
     "data": {
      "application/vnd.jupyter.widget-view+json": {
       "model_id": "68e6ed43fb314499b53d26566afe47b5",
       "version_major": 2,
       "version_minor": 0
      },
      "text/plain": [
       "Text(value='data/image', description='Image Groups:', style=DescriptionStyle(description_width='initial'))"
      ]
     },
     "metadata": {},
     "output_type": "display_data"
    },
    {
     "data": {
      "application/vnd.jupyter.widget-view+json": {
       "model_id": "69984300087b4b13b86b47fc232bfa98",
       "version_major": 2,
       "version_minor": 0
      },
      "text/plain": [
       "BoundedIntText(value=1000, description='Total Number Of Training Timesteps:', max=1000, style=DescriptionStyle…"
      ]
     },
     "metadata": {},
     "output_type": "display_data"
    },
    {
     "data": {
      "application/vnd.jupyter.widget-view+json": {
       "model_id": "88a81c7be5b54891854e2e519d503096",
       "version_major": 2,
       "version_minor": 0
      },
      "text/plain": [
       "Dropdown(description='Diffusion Schedule:', layout=Layout(width='max-content'), options=('cosine', 'linear', '…"
      ]
     },
     "metadata": {},
     "output_type": "display_data"
    },
    {
     "name": "stdout",
     "output_type": "stream",
     "text": [
      "____________________________________________________________\n",
      "EXECUTION SETTINGS\n",
      "------------------------------------------------------------\n"
     ]
    },
    {
     "data": {
      "application/vnd.jupyter.widget-view+json": {
       "model_id": "8f72c2049bbe41fd8d31ee038da777f2",
       "version_major": 2,
       "version_minor": 0
      },
      "text/plain": [
       "Checkbox(value=True, description='Get Command Line Arguments', style=DescriptionStyle(description_width='initi…"
      ]
     },
     "metadata": {},
     "output_type": "display_data"
    },
    {
     "data": {
      "application/vnd.jupyter.widget-view+json": {
       "model_id": "d3252bd7c8a546e0a24bd309e9c12ea0",
       "version_major": 2,
       "version_minor": 0
      },
      "text/plain": [
       "Checkbox(value=True, description='Execute Now!', style=DescriptionStyle(description_width='initial'))"
      ]
     },
     "metadata": {},
     "output_type": "display_data"
    }
   ],
   "source": [
    "# Define general inference parameters\n",
    "params = {'output_path': 'results/experiment_name',\n",
    "          'ckpt_path': 'results/experiment_name/DiffusionModel.ckpt',\n",
    "          'gpus': use_cuda,\n",
    "          'overlap': (15,30,30),\n",
    "          'crop': (15,30,30),\n",
    "          'input_batch': 'image',\n",
    "          'clip': (-1.0, 1.0),\n",
    "          'num_files':-1,\n",
    "          'add_noise_channel': False,\n",
    "          'pipeline': pipeline.value,\n",
    "          }\n",
    "\n",
    "params_diff = {'timesteps_start': 400,\n",
    "               'timesteps_save': 100,\n",
    "               'timesteps_step': 1,\n",
    "               'blur_sigma': 1\n",
    "              }\n",
    "\n",
    "\n",
    "# Load selected pipeline\n",
    "if  params['pipeline'].lower() == 'diffusionmodel3d':\n",
    "    from models.DiffusionModel3D import DiffusionModel3D as network\n",
    "    params.update(params_diff)\n",
    "elif params['pipeline'].lower() == 'diffusionmodel2d':\n",
    "    from models.DiffusionModel2D import DiffusionModel2D as network\n",
    "    params.update(params_diff)\n",
    "else:\n",
    "    raise ValueError('Pipeline {0} unknown.'.format(params['pipeline']))\n",
    "\n",
    "    \n",
    "# Get and show corresponding parameters\n",
    "pipeline_args = ArgumentParser(add_help=False)\n",
    "pipeline_args = network.add_model_specific_args(pipeline_args)\n",
    "pipeline_args = vars(pipeline_args.parse_known_args()[0])\n",
    "params = {**params, **pipeline_args}\n",
    "\n",
    "print('-'*60+'\\nPARAMETER FOR PIPELINE \"{0}\"\\n'.format(pipeline.value)+'-'*60)\n",
    "param_names, widget_list = get_apply_parameter_widgets(params)\n",
    "for widget in widget_list: \n",
    "    display(widget)\n",
    "    \n",
    "print('-'*60+'\\nEXECUTION SETTINGS\\n'+'-'*60)\n",
    "wg_execute, wg_arguments = get_execution_widgets()\n",
    "display(wg_arguments)\n",
    "display(wg_execute)"
   ]
  },
  {
   "cell_type": "markdown",
   "id": "19adcedb",
   "metadata": {},
   "source": [
    "---\n",
    "Finish preparations and start processing by executing the next block."
   ]
  },
  {
   "cell_type": "code",
   "execution_count": null,
   "id": "ec280ea3",
   "metadata": {
    "scrolled": false
   },
   "outputs": [],
   "source": [
    "# Get parameters\n",
    "param_names = [p for p,w in zip(param_names, widget_list) if w.value!=False and w.value!='']\n",
    "widget_list = [w for w in widget_list if w.value!=False and w.value!='']\n",
    "command_line_args = ' '.join(['--pipeline {0}'.format(pipeline.value)]+[n+' '+str(w.value) if not type(w.value)==bool else n for n,w in zip(param_names, widget_list)])\n",
    "\n",
    "# Show the command line arguments\n",
    "if wg_arguments.value:\n",
    "    print('_'*60+'\\nCOMMAND LINE ARGUMENTS FOR PIPELINE \"{0}\"\\n'.format(pipeline.value)+'-'*60)\n",
    "    print(command_line_args)\n",
    "    print('\\n')\n",
    "        \n",
    "# Execute the pipeline\n",
    "if wg_execute.value:\n",
    "    print('_'*60+'\\nEXECUTING PIPELINE \"{0}\"\\n'.format(pipeline.value)+'-'*60)\n",
    "    %run \"../apply_script_diffusion.py\" {command_line_args}"
   ]
  }
 ],
 "metadata": {
  "kernelspec": {
   "display_name": "Python 3 (ipykernel)",
   "language": "python",
   "name": "python3"
  },
  "language_info": {
   "codemirror_mode": {
    "name": "ipython",
    "version": 3
   },
   "file_extension": ".py",
   "mimetype": "text/x-python",
   "name": "python",
   "nbconvert_exporter": "python",
   "pygments_lexer": "ipython3",
   "version": "3.7.13"
  },
  "varInspector": {
   "cols": {
    "lenName": 16,
    "lenType": 16,
    "lenVar": 40
   },
   "kernels_config": {
    "python": {
     "delete_cmd_postfix": "",
     "delete_cmd_prefix": "del ",
     "library": "var_list.py",
     "varRefreshCmd": "print(var_dic_list())"
    },
    "r": {
     "delete_cmd_postfix": ") ",
     "delete_cmd_prefix": "rm(",
     "library": "var_list.r",
     "varRefreshCmd": "cat(var_dic_list()) "
    }
   },
   "types_to_exclude": [
    "module",
    "function",
    "builtin_function_or_method",
    "instance",
    "_Feature"
   ],
   "window_display": false
  },
  "vscode": {
   "interpreter": {
    "hash": "3d6afa663d3b7d8b7c28e0e5bf1fc62360d26f74485b03653b2cb99921ca431b"
   }
  }
 },
 "nbformat": 4,
 "nbformat_minor": 5
}
