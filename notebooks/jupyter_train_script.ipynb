{
 "cells": [
  {
   "cell_type": "markdown",
   "id": "c5a553ab",
   "metadata": {},
   "source": [
    "# Training Pipeline "
   ]
  },
  {
   "cell_type": "code",
   "execution_count": 2,
   "id": "9914fa37",
   "metadata": {},
   "outputs": [],
   "source": [
    "# Imports\n",
    "\n",
    "import os\n",
    "import sys\n",
    "import torch\n",
    "import ipywidgets as wg\n",
    "from IPython.display import display, Javascript \n",
    "from argparse import ArgumentParser, Namespace\n",
    "\n",
    "os.sys.path.append(os.path.dirname(os.path.abspath('.')))\n",
    "from utils.jupyter_widgets import get_pipelin_widget, get_parameter_widgets, get_execution_widgets"
   ]
  },
  {
   "cell_type": "code",
   "execution_count": 3,
   "id": "6dd050db",
   "metadata": {},
   "outputs": [
    {
     "name": "stdout",
     "output_type": "stream",
     "text": [
      "The following GPU was found:\n",
      "\n",
      "CUDNN VERSION: 8200\n",
      "Number CUDA Devices: 1\n",
      "CUDA Device Name: NVIDIA RTX A4000\n",
      "CUDA Device Total Memory [GB]: 16.890134528\n"
     ]
    },
    {
     "data": {
      "application/vnd.jupyter.widget-view+json": {
       "model_id": "e344d4a108bb448ea76c669800859e9a",
       "version_major": 2,
       "version_minor": 0
      },
      "text/plain": [
       "Dropdown(description='Select Pipeline:', options=('DiffusionModel3d', 'DiffusionModel2d'), style=DescriptionSt…"
      ]
     },
     "metadata": {},
     "output_type": "display_data"
    }
   ],
   "source": [
    "# Check for GPU\n",
    "\n",
    "use_cuda = torch.cuda.is_available()\n",
    "if use_cuda:\n",
    "    print('The following GPU was found:\\n')\n",
    "    print('CUDNN VERSION:', torch.backends.cudnn.version())\n",
    "    print('Number CUDA Devices:', torch.cuda.device_count())\n",
    "    print('CUDA Device Name:',torch.cuda.get_device_name(0))\n",
    "    print('CUDA Device Total Memory [GB]:',torch.cuda.get_device_properties(0).total_memory/1e9)\n",
    "else:\n",
    "    print('No GPU was found. CPU will be used.')\n",
    "\n",
    "# Select a pipeline \n",
    "pipeline = get_pipelin_widget()\n",
    "display(pipeline)"
   ]
  },
  {
   "cell_type": "markdown",
   "id": "fb2c9954",
   "metadata": {},
   "source": [
    "---\n",
    "After executing the next block, please adapt all parameters accordingly.\n",
    "The pipeline expects lists of files that should be used for training, testing and validation. \n",
    "Absolute paths to each files are automatically obtained by concatenating the provided data root and each entry of the file lists.\n",
    "When changing the selected pipeline, please again execute the following block."
   ]
  },
  {
   "cell_type": "code",
   "execution_count": 7,
   "id": "d5642dad",
   "metadata": {},
   "outputs": [
    {
     "name": "stdout",
     "output_type": "stream",
     "text": [
      "------------------------------------------------------------\n",
      "PARAMETER FOR PIPELINE \"DiffusionModel3d\"\n",
      "------------------------------------------------------------\n"
     ]
    },
    {
     "data": {
      "application/vnd.jupyter.widget-view+json": {
       "model_id": "fc0f7a6bc1fd49afa5e12fc8aa260528",
       "version_major": 2,
       "version_minor": 0
      },
      "text/plain": [
       "Text(value='results/experiment_name', description='Output Path:', style=DescriptionStyle(description_width='in…"
      ]
     },
     "metadata": {},
     "output_type": "display_data"
    },
    {
     "data": {
      "application/vnd.jupyter.widget-view+json": {
       "model_id": "286500cfd7d6409ba131afb23ef12e4b",
       "version_major": 2,
       "version_minor": 0
      },
      "text/plain": [
       "Text(value='logs', description='Log Path:', style=DescriptionStyle(description_width='initial'))"
      ]
     },
     "metadata": {},
     "output_type": "display_data"
    },
    {
     "data": {
      "application/vnd.jupyter.widget-view+json": {
       "model_id": "a8acae9f53724687abbf8c2cef573b0a",
       "version_major": 2,
       "version_minor": 0
      },
      "text/plain": [
       "IntSlider(value=1, description='Use GPU:', max=1, style=SliderStyle(description_width='initial'))"
      ]
     },
     "metadata": {},
     "output_type": "display_data"
    },
    {
     "data": {
      "application/vnd.jupyter.widget-view+json": {
       "model_id": "095c6a9407474113afdfda7450519d02",
       "version_major": 2,
       "version_minor": 0
      },
      "text/plain": [
       "Checkbox(value=True, description='Resume:', style=DescriptionStyle(description_width='initial'))"
      ]
     },
     "metadata": {},
     "output_type": "display_data"
    },
    {
     "data": {
      "application/vnd.jupyter.widget-view+json": {
       "model_id": "315aa433d3bb45a4961db9f2ea8444ad",
       "version_major": 2,
       "version_minor": 0
      },
      "text/plain": [
       "Text(value='', description='Path To The Pretrained Model:', style=DescriptionStyle(description_width='initial'…"
      ]
     },
     "metadata": {},
     "output_type": "display_data"
    },
    {
     "data": {
      "application/vnd.jupyter.widget-view+json": {
       "model_id": "4a28c9b07d0f41489cf68f782c322eba",
       "version_major": 2,
       "version_minor": 0
      },
      "text/plain": [
       "Text(value='', description='Augmentation Dictionary File:', style=DescriptionStyle(description_width='initial'…"
      ]
     },
     "metadata": {},
     "output_type": "display_data"
    },
    {
     "data": {
      "application/vnd.jupyter.widget-view+json": {
       "model_id": "225ed7df659643c6aba24dccadee78dd",
       "version_major": 2,
       "version_minor": 0
      },
      "text/plain": [
       "BoundedIntText(value=5000, description='Epochs:', max=10000, min=1, style=DescriptionStyle(description_width='…"
      ]
     },
     "metadata": {},
     "output_type": "display_data"
    },
    {
     "data": {
      "application/vnd.jupyter.widget-view+json": {
       "model_id": "63bf1e83241343f7b00ef91e2af4e48d",
       "version_major": 2,
       "version_minor": 0
      },
      "text/plain": [
       "Dropdown(description='Network Architecture:', layout=Layout(width='max-content'), options=('UNet3D_PixelShuffl…"
      ]
     },
     "metadata": {},
     "output_type": "display_data"
    },
    {
     "data": {
      "application/vnd.jupyter.widget-view+json": {
       "model_id": "5b36743b243844d4b2e71e43ef722f23",
       "version_major": 2,
       "version_minor": 0
      },
      "text/plain": [
       "BoundedIntText(value=2, description='Input Channels:', max=10000, min=1, style=DescriptionStyle(description_wi…"
      ]
     },
     "metadata": {},
     "output_type": "display_data"
    },
    {
     "data": {
      "application/vnd.jupyter.widget-view+json": {
       "model_id": "99aae3dbfb0646e1b2d5ad73daa34d3a",
       "version_major": 2,
       "version_minor": 0
      },
      "text/plain": [
       "BoundedIntText(value=1, description='Output Channels:', max=10000, min=1, style=DescriptionStyle(description_w…"
      ]
     },
     "metadata": {},
     "output_type": "display_data"
    },
    {
     "data": {
      "application/vnd.jupyter.widget-view+json": {
       "model_id": "e74592f7e3334e6b928f06f1fd291bbd",
       "version_major": 2,
       "version_minor": 0
      },
      "text/plain": [
       "BoundedIntText(value=16, description='Feature Channels:', max=10000, min=2, style=DescriptionStyle(description…"
      ]
     },
     "metadata": {},
     "output_type": "display_data"
    },
    {
     "data": {
      "application/vnd.jupyter.widget-view+json": {
       "model_id": "38e811a52fab4f07916b1680615daf9d",
       "version_major": 2,
       "version_minor": 0
      },
      "text/plain": [
       "BoundedIntText(value=128, description='T Channels:', max=10000, min=1, style=DescriptionStyle(description_widt…"
      ]
     },
     "metadata": {},
     "output_type": "display_data"
    },
    {
     "data": {
      "application/vnd.jupyter.widget-view+json": {
       "model_id": "985d663623c74bb4b65e8aeebdfc778c",
       "version_major": 2,
       "version_minor": 0
      },
      "text/plain": [
       "Text(value='64 128 128', description='Patch Size (z,y,x):', style=DescriptionStyle(description_width='initial'…"
      ]
     },
     "metadata": {},
     "output_type": "display_data"
    },
    {
     "data": {
      "application/vnd.jupyter.widget-view+json": {
       "model_id": "f59d9a810e5e4219abc36c7f109be4ad",
       "version_major": 2,
       "version_minor": 0
      },
      "text/plain": [
       "Dropdown(description='Layer Normalization:', layout=Layout(width='max-content'), options=('instance', 'batch',…"
      ]
     },
     "metadata": {},
     "output_type": "display_data"
    },
    {
     "data": {
      "application/vnd.jupyter.widget-view+json": {
       "model_id": "4ec7dc91a2084e648f4e692f29bf2e1d",
       "version_major": 2,
       "version_minor": 0
      },
      "text/plain": [
       "Dropdown(description='Output Activation:', index=5, layout=Layout(width='max-content'), options=('tanh', 'sigm…"
      ]
     },
     "metadata": {},
     "output_type": "display_data"
    },
    {
     "data": {
      "application/vnd.jupyter.widget-view+json": {
       "model_id": "47551f06e34b47019387a9ad13c206c8",
       "version_major": 2,
       "version_minor": 0
      },
      "text/plain": [
       "Dropdown(description='Data Normalization:', index=3, layout=Layout(width='max-content'), options=('percentile'…"
      ]
     },
     "metadata": {},
     "output_type": "display_data"
    },
    {
     "data": {
      "application/vnd.jupyter.widget-view+json": {
       "model_id": "db3ad9d2f6f64ce0adc7c1ece061faa4",
       "version_major": 2,
       "version_minor": 0
      },
      "text/plain": [
       "Text(value='/data/root', description='Data Root:', style=DescriptionStyle(description_width='initial'))"
      ]
     },
     "metadata": {},
     "output_type": "display_data"
    },
    {
     "data": {
      "application/vnd.jupyter.widget-view+json": {
       "model_id": "6c74f3821bb34d7b92813eed1b4a1d2f",
       "version_major": 2,
       "version_minor": 0
      },
      "text/plain": [
       "Text(value='/path/to/training_data/split1_train.csv', description='Train List:', style=DescriptionStyle(descri…"
      ]
     },
     "metadata": {},
     "output_type": "display_data"
    },
    {
     "data": {
      "application/vnd.jupyter.widget-view+json": {
       "model_id": "89b608f55d99483c973ae68ce252535e",
       "version_major": 2,
       "version_minor": 0
      },
      "text/plain": [
       "Text(value='/path/to/testing_data/split1_test.csv', description='Test List:', style=DescriptionStyle(descripti…"
      ]
     },
     "metadata": {},
     "output_type": "display_data"
    },
    {
     "data": {
      "application/vnd.jupyter.widget-view+json": {
       "model_id": "25c06a04ba0742c99ab9000379952912",
       "version_major": 2,
       "version_minor": 0
      },
      "text/plain": [
       "Text(value='/path/to/validation_data/split1_val.csv', description='Validation List:', style=DescriptionStyle(d…"
      ]
     },
     "metadata": {},
     "output_type": "display_data"
    },
    {
     "data": {
      "application/vnd.jupyter.widget-view+json": {
       "model_id": "835f1918bb9940148d5440ac311ea36e",
       "version_major": 2,
       "version_minor": 0
      },
      "text/plain": [
       "Text(value='data/image', description='Image Groups:', style=DescriptionStyle(description_width='initial'))"
      ]
     },
     "metadata": {},
     "output_type": "display_data"
    },
    {
     "data": {
      "application/vnd.jupyter.widget-view+json": {
       "model_id": "4c00a8853cd942059df5e944b4dfb363",
       "version_major": 2,
       "version_minor": 0
      },
      "text/plain": [
       "Text(value='', description='Mask Groups:', style=DescriptionStyle(description_width='initial'))"
      ]
     },
     "metadata": {},
     "output_type": "display_data"
    },
    {
     "data": {
      "application/vnd.jupyter.widget-view+json": {
       "model_id": "6762c7a19c774bcfae2f40843a484b7f",
       "version_major": 2,
       "version_minor": 0
      },
      "text/plain": [
       "BoundedIntText(value=-1, description='Image Noise Channel:', max=5, min=-5, style=DescriptionStyle(description…"
      ]
     },
     "metadata": {},
     "output_type": "display_data"
    },
    {
     "data": {
      "application/vnd.jupyter.widget-view+json": {
       "model_id": "17e4172a499d487381549ddd6c14db24",
       "version_major": 2,
       "version_minor": 0
      },
      "text/plain": [
       "BoundedIntText(value=-1, description='Mask Noise Channel:', max=5, min=-5, style=DescriptionStyle(description_…"
      ]
     },
     "metadata": {},
     "output_type": "display_data"
    },
    {
     "data": {
      "application/vnd.jupyter.widget-view+json": {
       "model_id": "0425129602c14541a3ac9bc4d71ec640",
       "version_major": 2,
       "version_minor": 0
      },
      "text/plain": [
       "Dropdown(description='Noise Type:', layout=Layout(width='max-content'), options=('gaussian', 'rayleigh', 'lapl…"
      ]
     },
     "metadata": {},
     "output_type": "display_data"
    },
    {
     "data": {
      "application/vnd.jupyter.widget-view+json": {
       "model_id": "d2e0d40b3cf54115a320cd83fdba965c",
       "version_major": 2,
       "version_minor": 0
      },
      "text/plain": [
       "BoundedIntText(value=1000, description='Number Of Timestep:', max=1000, style=DescriptionStyle(description_wid…"
      ]
     },
     "metadata": {},
     "output_type": "display_data"
    },
    {
     "data": {
      "application/vnd.jupyter.widget-view+json": {
       "model_id": "9d43892c4cb647beba0e3070646a30ee",
       "version_major": 2,
       "version_minor": 0
      },
      "text/plain": [
       "Dropdown(description='Diffusion Schedule:', layout=Layout(width='max-content'), options=('cosine', 'linear', '…"
      ]
     },
     "metadata": {},
     "output_type": "display_data"
    },
    {
     "data": {
      "application/vnd.jupyter.widget-view+json": {
       "model_id": "d229cb12a25f4d36a4b9186cf886807d",
       "version_major": 2,
       "version_minor": 0
      },
      "text/plain": [
       "BoundedIntText(value=-1, description='Samples Per Epoch:', max=1000000, min=-1, style=DescriptionStyle(descrip…"
      ]
     },
     "metadata": {},
     "output_type": "display_data"
    },
    {
     "data": {
      "application/vnd.jupyter.widget-view+json": {
       "model_id": "6c9444bca0e24a48a2896e7615c46ebb",
       "version_major": 2,
       "version_minor": 0
      },
      "text/plain": [
       "BoundedIntText(value=1, description='Batch Size:', max=1000000, min=1, style=DescriptionStyle(description_widt…"
      ]
     },
     "metadata": {},
     "output_type": "display_data"
    },
    {
     "data": {
      "application/vnd.jupyter.widget-view+json": {
       "model_id": "16664f64ca1a4de79d77f4016bf63c47",
       "version_major": 2,
       "version_minor": 0
      },
      "text/plain": [
       "BoundedFloatText(value=0.001, description='Learning Rate:', max=1000000.0, style=DescriptionStyle(description_…"
      ]
     },
     "metadata": {},
     "output_type": "display_data"
    },
    {
     "name": "stdout",
     "output_type": "stream",
     "text": [
      "------------------------------------------------------------\n",
      "EXECUTION SETTINGS\n",
      "------------------------------------------------------------\n"
     ]
    },
    {
     "data": {
      "application/vnd.jupyter.widget-view+json": {
       "model_id": "f2beff43c620428d91f496c0cf982005",
       "version_major": 2,
       "version_minor": 0
      },
      "text/plain": [
       "Checkbox(value=True, description='Get Command Line Arguments', style=DescriptionStyle(description_width='initi…"
      ]
     },
     "metadata": {},
     "output_type": "display_data"
    },
    {
     "data": {
      "application/vnd.jupyter.widget-view+json": {
       "model_id": "dd105abb019a417b981dce12ce84e231",
       "version_major": 2,
       "version_minor": 0
      },
      "text/plain": [
       "Checkbox(value=True, description='Execute Now!', style=DescriptionStyle(description_width='initial'))"
      ]
     },
     "metadata": {},
     "output_type": "display_data"
    }
   ],
   "source": [
    "# Define general training parameters\n",
    "params = {'output_path': 'results/experiment_name',\n",
    "          'log_path': 'logs',\n",
    "          'gpus': use_cuda,\n",
    "          'no_resume': False,\n",
    "          'pretrained': None,\n",
    "          'augmentations': None,\n",
    "          'epochs': 5000,\n",
    "          'pipeline': pipeline.value}\n",
    "\n",
    "# Load selected pipeline\n",
    "if   params['pipeline'].lower() == 'diffusionmodel3d':\n",
    "    from models.DiffusionModel3D import DiffusionModel3D as network\n",
    "elif params['pipeline'].lower() == 'diffusionmodel2d':\n",
    "    from models.DiffusionModel2D import DiffusionModel2D as network\n",
    "else:\n",
    "    raise ValueError('Pipeline {0} unknown.'.format(params['pipeline']))\n",
    "# Get and show corresponding parameters\n",
    "pipeline_args = ArgumentParser(add_help=False)\n",
    "pipeline_args = network.add_model_specific_args(pipeline_args)\n",
    "pipeline_args = vars(pipeline_args.parse_known_args()[0])\n",
    "params = {**params, **pipeline_args}\n",
    "\n",
    "print('-'*60+'\\nPARAMETER FOR PIPELINE \"{0}\"\\n'.format(pipeline.value)+'-'*60)\n",
    "param_names, widget_list, _ = get_parameter_widgets(params)\n",
    "for widget in widget_list: \n",
    "    display(widget)\n",
    "    \n",
    "print('-'*60+'\\nEXECUTION SETTINGS\\n'+'-'*60)\n",
    "wg_execute, wg_arguments = get_execution_widgets()\n",
    "display(wg_arguments)\n",
    "display(wg_execute)"
   ]
  },
  {
   "cell_type": "markdown",
   "id": "1efbe8ae",
   "metadata": {},
   "source": [
    "---\n",
    "Finish preparations and start processing by executing the next block."
   ]
  },
  {
   "cell_type": "code",
   "execution_count": null,
   "id": "2daffbc0",
   "metadata": {},
   "outputs": [],
   "source": [
    "# Get parameters\n",
    "param_names = [p for p,w in zip(param_names, widget_list) if w.value!=False and w.value!='']\n",
    "widget_list = [w for w in widget_list if w.value!=False and w.value!='']\n",
    "command_line_args = ' '.join(['--pipeline {0}'.format(pipeline.value)]+[n+' '+str(w.value) if not type(w.value)==bool else n for n,w in zip(param_names, widget_list)])\n",
    "\n",
    "# Show the command line arguments\n",
    "if wg_arguments.value:\n",
    "    print('_'*60+'\\nCOMMAND LINE ARGUMENTS FOR PIPELINE \"{0}\"\\n'.format(pipeline.value)+'-'*60)\n",
    "    print(command_line_args)\n",
    "    print('\\n')\n",
    "    \n",
    "# Execute the pipeline\n",
    "if wg_execute.value:\n",
    "    print('_'*60+'\\nEXECUTING PIPELINE \"{0}\"\\n'.format(pipeline.value)+'-'*60)\n",
    "    %run \"../train_script.py\" {command_line_args}"
   ]
  }
 ],
 "metadata": {
  "kernelspec": {
   "display_name": "Python 3 (ipykernel)",
   "language": "python",
   "name": "python3"
  },
  "language_info": {
   "codemirror_mode": {
    "name": "ipython",
    "version": 3
   },
   "file_extension": ".py",
   "mimetype": "text/x-python",
   "name": "python",
   "nbconvert_exporter": "python",
   "pygments_lexer": "ipython3",
   "version": "3.7.13"
  },
  "varInspector": {
   "cols": {
    "lenName": 16,
    "lenType": 16,
    "lenVar": 40
   },
   "kernels_config": {
    "python": {
     "delete_cmd_postfix": "",
     "delete_cmd_prefix": "del ",
     "library": "var_list.py",
     "varRefreshCmd": "print(var_dic_list())"
    },
    "r": {
     "delete_cmd_postfix": ") ",
     "delete_cmd_prefix": "rm(",
     "library": "var_list.r",
     "varRefreshCmd": "cat(var_dic_list()) "
    }
   },
   "types_to_exclude": [
    "module",
    "function",
    "builtin_function_or_method",
    "instance",
    "_Feature"
   ],
   "window_display": false
  },
  "vscode": {
   "interpreter": {
    "hash": "3d6afa663d3b7d8b7c28e0e5bf1fc62360d26f74485b03653b2cb99921ca431b"
   }
  }
 },
 "nbformat": 4,
 "nbformat_minor": 5
}
