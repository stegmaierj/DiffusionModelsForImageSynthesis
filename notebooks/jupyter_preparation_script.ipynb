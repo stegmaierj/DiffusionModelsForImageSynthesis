{
 "cells": [
  {
   "cell_type": "markdown",
   "id": "e877057c",
   "metadata": {},
   "source": [
    "# Data Preparation Pipeline "
   ]
  },
  {
   "cell_type": "code",
   "execution_count": null,
   "id": "722a8a44",
   "metadata": {},
   "outputs": [],
   "source": [
    "# Imports\n",
    "\n",
    "import os\n",
    "import glob\n",
    "from skimage import io\n",
    "\n",
    "os.sys.path.append(os.path.dirname(os.path.abspath('.')))\n",
    "from utils.h5_converter import prepare_images\n",
    "from utils.csv_generator import create_csv"
   ]
  },
  {
   "cell_type": "markdown",
   "id": "66084504",
   "metadata": {},
   "source": [
    "Both, the training and application scripts are designed to use the hdf5 data format. Therefore, all data samples need to be converted into this data format first and the function `prepare_images` can be used for that purpose.<br>\n",
    "Two example data samples are availabe in the _data_samples_ folder and the following function saves the converted data samples to the same folder. If another directory or folder is desired, the parameters _save_path_ and _save_folders_ can additionally be adapted accordingly."
   ]
  },
  {
   "cell_type": "code",
   "execution_count": null,
   "id": "44dbe16b",
   "metadata": {},
   "outputs": [],
   "source": [
    "# Convert images to h5\n",
    "prepare_images(data_path=r'../', folders=['data_samples',], identifier='*.tif')"
   ]
  },
  {
   "cell_type": "markdown",
   "id": "a3eb2027",
   "metadata": {},
   "source": [
    "As a next step, the converted data samples need to be listed in a csv file to make the accessible to the training and application pipelines.<br>\n",
    "For creating the file lists, the function `create_csv` can be used. In case a test or valdation split is desired, the parameters _test_split_ and _val_split_ can be adapted to provide percentages of the respective splits."
   ]
  },
  {
   "cell_type": "code",
   "execution_count": null,
   "id": "c7864ed0",
   "metadata": {},
   "outputs": [],
   "source": [
    "# Get a list of all files\n",
    "image_files = glob.glob(r'../data_samples/image3D*.h5')\n",
    "sketch_files = glob.glob(r'../data_samples/sketch3D*.h5')\n",
    "\n",
    "# Save the lists as csv file\n",
    "create_csv([[os.path.split(i)[-1],] for i in image_files],\\\n",
    "           save_path=r'../data_samples/image_files_3D', test_split=0, val_split=0)\n",
    "create_csv([[os.path.split(s)[-1]] for s in sketch_files],\\\n",
    "           save_path=r'../data_samples/sketch_files_3D', test_split=0, val_split=0)"
   ]
  }
 ],
 "metadata": {
  "kernelspec": {
   "display_name": "Python 3 (ipykernel)",
   "language": "python",
   "name": "python3"
  },
  "language_info": {
   "codemirror_mode": {
    "name": "ipython",
    "version": 3
   },
   "file_extension": ".py",
   "mimetype": "text/x-python",
   "name": "python",
   "nbconvert_exporter": "python",
   "pygments_lexer": "ipython3",
   "version": "3.7.13"
  },
  "varInspector": {
   "cols": {
    "lenName": 16,
    "lenType": 16,
    "lenVar": 40
   },
   "kernels_config": {
    "python": {
     "delete_cmd_postfix": "",
     "delete_cmd_prefix": "del ",
     "library": "var_list.py",
     "varRefreshCmd": "print(var_dic_list())"
    },
    "r": {
     "delete_cmd_postfix": ") ",
     "delete_cmd_prefix": "rm(",
     "library": "var_list.r",
     "varRefreshCmd": "cat(var_dic_list()) "
    }
   },
   "types_to_exclude": [
    "module",
    "function",
    "builtin_function_or_method",
    "instance",
    "_Feature"
   ],
   "window_display": false
  }
 },
 "nbformat": 4,
 "nbformat_minor": 5
}
